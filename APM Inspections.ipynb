{
 "cells": [
  {
   "cell_type": "markdown",
   "metadata": {},
   "source": [
    "# APM Inspections PMF Analysis\n",
    "#### To grow, or not to grow?"
   ]
  },
  {
   "cell_type": "code",
   "execution_count": 1,
   "metadata": {},
   "outputs": [],
   "source": [
    "import pandas as pd\n",
    "import numpy as np\n",
    "import matplotlib.pyplot as plt\n",
    "from tqdm.notebook import tqdm, trange\n",
    "import warnings"
   ]
  },
  {
   "cell_type": "code",
   "execution_count": 2,
   "metadata": {},
   "outputs": [],
   "source": [
    "ttl_properties = 1657908"
   ]
  },
  {
   "cell_type": "markdown",
   "metadata": {},
   "source": [
    "### SQL Queries\n",
    "\n",
    "[Source](https://cupola.appfolio.com/queries/11581/source): `https://cupola.appfolio.com/queries/11581/source`"
   ]
  },
  {
   "cell_type": "markdown",
   "metadata": {},
   "source": [
    "SQL to get properties, units, property_type, portfolio\n",
    "\n",
    "```sql\n",
    "select \n",
    "    p.vhost\n",
    "    , p.id\n",
    "    , p.property_type\n",
    "    , v.property_portfolio_type\n",
    "    , count(u.id) as cnt_units\n",
    "from property_properties p\n",
    "left outer join property_unit_groups ug on p.vhost = ug.vhost and p.id = ug.property_id \n",
    "left outer join property_units u on p.vhost = u.vhost and u.unit_group_id = ug.id\n",
    "left outer join vhost_property_portfolio v on p.vhost = v.vhost\n",
    "group by p.vhost, p.id, p.property_type, v.property_portfolio_type\n",
    "```"
   ]
  },
  {
   "cell_type": "markdown",
   "metadata": {},
   "source": [
    "SQL to get move-outs by property\n",
    "\n",
    "```SQL\n",
    "select m.vhost, p.id as property_id, m.created_at::date as move_out_date\n",
    "from property_move_outs m\n",
    "left JOIN property_occupancies o ON m.occupancy_id = o.id AND m.vhost = o.vhost\n",
    "left JOIN property_units u ON o.unit_id = u.id AND m.vhost = u.vhost\n",
    "left JOIN property_unit_groups ug ON u.unit_group_id = ug.id AND m.vhost = ug.vhost\n",
    "left JOIN property_properties p ON ug.property_id = p.id AND m.vhost = p.vhost\n",
    "left JOIN vhost_property_portfolio v on m.vhost = v.vhost -- and v.property_portfolio_type like 'Large Res%'\n",
    "where m.completed_move_out = true\n",
    "    and m.created_at BETWEEN current_date()::date - interval '540 days' AND current_date()\n",
    "```"
   ]
  },
  {
   "cell_type": "markdown",
   "metadata": {},
   "source": [
    "SQL to get inspections by occupancy\n",
    "\n",
    "```SQL\n",
    "SELECT i.vhost, p.id as property_id, i.created_at::date as inspection_date\n",
    "FROM property_inspections_inspections i\n",
    "JOIN property_occupancies o ON i.inspectable_id = o.id AND i.vhost = o.vhost\n",
    "JOIN property_units u ON o.unit_id = u.id AND i.vhost = u.vhost\n",
    "JOIN property_unit_groups ug ON u.unit_group_id = ug.id AND i.vhost = ug.vhost\n",
    "JOIN property_properties p ON ug.property_id = p.id AND i.vhost = p.vhost\n",
    "JOIN vhost_property_portfolio v on i.vhost = v.vhost -- and v.property_portfolio_type like 'Large Res%'\n",
    "WHERE inspectable_type = 'Occupancy'\n",
    "    AND i.created_at BETWEEN current_date()::date - interval '540 days' AND current_date()\n",
    "```"
   ]
  },
  {
   "cell_type": "markdown",
   "metadata": {},
   "source": [
    "SQL to get inspections by unit\n",
    "\n",
    "```SQL\n",
    "SELECT i.vhost, p.id as property_id, i.created_at::date as inspection_date\n",
    "FROM property_inspections_inspections i\n",
    "JOIN property_units u ON i.inspectable_id = u.id AND i.vhost = u.vhost\n",
    "JOIN property_unit_groups ug ON u.unit_group_id = ug.id AND i.vhost = ug.vhost\n",
    "JOIN property_properties p ON ug.property_id = p.id AND i.vhost = p.vhost\n",
    "JOIN vhost_property_portfolio v on i.vhost = v.vhost -- and v.property_portfolio_type like 'Large Res%'\n",
    "WHERE inspectable_type = 'Unit'\n",
    "    AND i.created_at BETWEEN current_date()::date - interval '540 days' AND current_date()\n",
    "```"
   ]
  },
  {
   "cell_type": "markdown",
   "metadata": {},
   "source": [
    "SQL to get inspections by property\n",
    "\n",
    "```SQL\n",
    "SELECT i.vhost, i.inspectable_id as property_id, i.created_at::date as inspection_date\n",
    "FROM property_inspections_inspections i\n",
    "JOIN vhost_property_portfolio v on i.vhost = v.vhost -- and v.property_portfolio_type like 'Large Res%'\n",
    "WHERE inspectable_type = 'Property'\n",
    "    AND i.created_at BETWEEN current_date()::date - interval '540 days' AND current_date()\n",
    "```"
   ]
  },
  {
   "cell_type": "code",
   "execution_count": 3,
   "metadata": {},
   "outputs": [],
   "source": [
    "move_out_file = '~/Downloads/4740948_2020_11_13.csv'\n",
    "occupancy_file = '~/Downloads/4741030_2020_11_14.csv'\n",
    "units_file = '~/Downloads/4741031_2020_11_14.csv'\n",
    "property_file = '~/Downloads/4741035_2020_11_14.csv'\n",
    "unit_details = '~/Downloads/4741461_2020_11_14.csv'"
   ]
  },
  {
   "cell_type": "markdown",
   "metadata": {},
   "source": [
    "### Create dataframes\n",
    "\n",
    "* Create user as `concatenate(VHOST + PROPERTY_ID)`\n",
    "* Create date by transforming str date to timstamp\n",
    "* Join inspection dataframes together, drop `np.nan`'s        "
   ]
  },
  {
   "cell_type": "code",
   "execution_count": 4,
   "metadata": {},
   "outputs": [],
   "source": [
    "df = pd.read_csv(move_out_file)\n",
    "df_o = pd.read_csv(occupancy_file)\n",
    "df_u = pd.read_csv(units_file)\n",
    "df_p = pd.read_csv(property_file)\n",
    "frames = [df_o, df_u, df_p]\n",
    "df_i = pd.concat(frames, ignore_index=True)"
   ]
  },
  {
   "cell_type": "code",
   "execution_count": 5,
   "metadata": {},
   "outputs": [],
   "source": [
    "df_i['date'] = pd.to_datetime(df_i['INSPECTION_DATE'])\n",
    "df_i['user'] = df_i['VHOST'] + df_i['PROPERTY_ID'].astype(str)"
   ]
  },
  {
   "cell_type": "code",
   "execution_count": 6,
   "metadata": {},
   "outputs": [],
   "source": [
    "df['date'] = pd.to_datetime(df['MOVE_OUT_DATE'])\n",
    "df['user'] = df['VHOST'] + df['PROPERTY_ID'].astype(str)"
   ]
  },
  {
   "cell_type": "code",
   "execution_count": 7,
   "metadata": {},
   "outputs": [],
   "source": [
    "df_ud = pd.read_csv(unit_details)\n",
    "df_ud['user'] = df_ud['VHOST'] + df_ud['ID'].astype(str)\n",
    "df_i = df_i.set_index('user').join(df_ud.drop(['VHOST', 'ID'], axis=1).set_index('user'), rsuffix='_details').dropna(subset=['CNT_UNITS']).reset_index()"
   ]
  },
  {
   "cell_type": "markdown",
   "metadata": {},
   "source": [
    "### Calculate MAU by first-active-date cohort\n",
    "\n",
    "* Define max-min date range for analysis\n",
    "* Create cohorts of unique active users, by date of first use\n",
    "  * Exclude any active user in a previous cohort from a subsequent cohort (MECE)\n",
    "* Evaluate which of a cohorts active users are active on each subsequent day\n",
    "* Store the active rate `total active ÷ total cohort`\n",
    "* Store the `total active`"
   ]
  },
  {
   "cell_type": "code",
   "execution_count": 8,
   "metadata": {},
   "outputs": [],
   "source": [
    "def active_users_by_cohort(event_df, period_length):\n",
    "    active_user_df = pd.DataFrame({\"date\": pd.date_range(event_df['date'].min(), event_df['date'].max())})\n",
    "    active_user_count_df = pd.DataFrame({\"date\": pd.date_range(event_df['date'].min(), event_df['date'].max())})\n",
    "    existing_users = set()\n",
    "    for cohort_date in trange(len(active_user_df)):\n",
    "        active_user_df[cohort_date] = np.nan\n",
    "        active_user_count_df[cohort_date] = 0\n",
    "        origin_date = active_user_df['date'][cohort_date]\n",
    "        offset_date = origin_date - pd.offsets.Day(int(period_length))\n",
    "        base_cohort = set(event_df[\n",
    "                             (event_df['date'] <= origin_date) & \n",
    "                             (event_df['date'] > offset_date)  \n",
    "                             ]['user'].unique()) - existing_users\n",
    "        existing_users.update(base_cohort)\n",
    "        for i in range(cohort_date, len(active_user_df)):\n",
    "            origin_date = active_user_df['date'][i]\n",
    "            offset_date = origin_date - pd.offsets.Day(int(period_length))\n",
    "            current_cohort = set(event_df[\n",
    "                             (event_df['date'] <= origin_date) & \n",
    "                             (event_df['date'] > offset_date)  \n",
    "                             ]['user'].unique())\n",
    "            if len(base_cohort) != 0:\n",
    "                active_user_df.loc[i, cohort_date] = len(base_cohort & current_cohort)/len(base_cohort)\n",
    "                active_user_count_df.loc[i, cohort_date] = len(base_cohort & current_cohort)\n",
    "    return active_user_df, active_user_count_df\n"
   ]
  },
  {
   "cell_type": "code",
   "execution_count": 10,
   "metadata": {},
   "outputs": [
    {
     "data": {
      "text/plain": [
       "[(277849, 8), (92272, 8), (102208, 8), (37146, 8)]"
      ]
     },
     "execution_count": 10,
     "metadata": {},
     "output_type": "execute_result"
    }
   ],
   "source": [
    "# # subset on high-density MFR (≥20 units)\n",
    "df_HDMFR = df_i[\n",
    "    (df_i['CNT_UNITS'] >= 20) &\n",
    "    (df_i['PROPERTY_TYPE'] == 'Multi-Family')\n",
    "]\n",
    "\n",
    "# # subset high-density (≥20 units) MFR by segment (smb, mm, corp)\n",
    "df_HDMFR_SMB = df_i[\n",
    "    (df_i['CNT_UNITS'] >= 20) &\n",
    "    (df_i['PROPERTY_PORTFOLIO_TYPE'] == 'SMB Res') &\n",
    "    (df_i['PROPERTY_TYPE'] == 'Multi-Family')\n",
    "]\n",
    "\n",
    "df_HDMFR_MM = df_i[\n",
    "    (df_i['CNT_UNITS'] >= 20) &\n",
    "    (df_i['PROPERTY_PORTFOLIO_TYPE'] == 'Large Res Mid-Market') &\n",
    "    (df_i['PROPERTY_TYPE'] == 'Multi-Family')\n",
    "]\n",
    "\n",
    "df_HDMFR_C = df_i[\n",
    "    (df_i['CNT_UNITS'] >= 20) &\n",
    "    (df_i['PROPERTY_PORTFOLIO_TYPE'] == 'Large Res Corporate') &\n",
    "    (df_i['PROPERTY_TYPE'] == 'Multi-Family')\n",
    "]\n",
    "\n",
    "[df_HDMFR.shape, df_HDMFR_SMB.shape, df_HDMFR_MM.shape, df_HDMFR_C.shape]"
   ]
  },
  {
   "cell_type": "code",
   "execution_count": 11,
   "metadata": {},
   "outputs": [
    {
     "data": {
      "application/vnd.jupyter.widget-view+json": {
       "model_id": "6fa6684c1d044fa1899d51fc4b1c532c",
       "version_major": 2,
       "version_minor": 0
      },
      "text/plain": [
       "HBox(children=(FloatProgress(value=0.0, max=540.0), HTML(value='')))"
      ]
     },
     "metadata": {},
     "output_type": "display_data"
    },
    {
     "name": "stdout",
     "output_type": "stream",
     "text": [
      "\n"
     ]
    }
   ],
   "source": [
    "df_HDMFR_SMB_user_rate, df_HDMFR_SMB_user_count = active_users_by_cohort(df_HDMFR_SMB, 31)"
   ]
  },
  {
   "cell_type": "code",
   "execution_count": 12,
   "metadata": {},
   "outputs": [
    {
     "data": {
      "application/vnd.jupyter.widget-view+json": {
       "model_id": "f9d1a0805b6946468762d8c87dd0bfb0",
       "version_major": 2,
       "version_minor": 0
      },
      "text/plain": [
       "HBox(children=(FloatProgress(value=0.0, max=540.0), HTML(value='')))"
      ]
     },
     "metadata": {},
     "output_type": "display_data"
    },
    {
     "name": "stdout",
     "output_type": "stream",
     "text": [
      "\n"
     ]
    }
   ],
   "source": [
    "df_HDMFR_MM_user_rate, df_HDMFR_MM_user_count = active_users_by_cohort(df_HDMFR_MM, 31)"
   ]
  },
  {
   "cell_type": "code",
   "execution_count": 13,
   "metadata": {},
   "outputs": [
    {
     "data": {
      "application/vnd.jupyter.widget-view+json": {
       "model_id": "4140543bc8864557b91a6d47de01d2f8",
       "version_major": 2,
       "version_minor": 0
      },
      "text/plain": [
       "HBox(children=(FloatProgress(value=0.0, max=540.0), HTML(value='')))"
      ]
     },
     "metadata": {},
     "output_type": "display_data"
    },
    {
     "name": "stdout",
     "output_type": "stream",
     "text": [
      "\n"
     ]
    }
   ],
   "source": [
    "df_HDMFR_C_user_rate, df_HDMFR_C_user_count  = active_users_by_cohort(df_HDMFR_C, 31)"
   ]
  },
  {
   "cell_type": "code",
   "execution_count": 32,
   "metadata": {},
   "outputs": [
    {
     "data": {
      "image/png": "[encoded data removed]",
      "text/plain": [
       "<Figure size 432x288 with 1 Axes>"
      ]
     },
     "metadata": {
      "needs_background": "light"
     },
     "output_type": "display_data"
    }
   ],
   "source": [
    "sample_cohort = 1\n",
    "\n",
    "fig, ax = plt.subplots()\n",
    "ax.set_title('HD-MFR MAU attrition by segment')\n",
    "# p1, = ax.plot(df_HDMFR_users['date'], df_HDMFR_users[df_HDMFR_users.columns[1]].rolling(30).mean(), label='All')\n",
    "p2, = ax.plot(df_HDMFR_SMB_user_rate.index, df_HDMFR_SMB_user_rate[df_HDMFR_SMB_user_rate.columns[sample_cohort]].rolling(30).mean(), label='SMB - Cohort {}'.format(sample_cohort))\n",
    "p3, = ax.plot(df_HDMFR_MM_user_rate.index, df_HDMFR_MM_user_rate[df_HDMFR_MM_user_rate.columns[sample_cohort]].rolling(30).mean(), label='Mid Market - Cohort {}'.format(sample_cohort))\n",
    "p4, = ax.plot(df_HDMFR_C_user_rate.index, df_HDMFR_C_user_rate[df_HDMFR_C_user_rate.columns[sample_cohort]].rolling(30).mean(), label='Corporate - Cohort {}'.format(sample_cohort))\n",
    "\n",
    "# ax2 = ax.twinx()\n",
    "# p5, = ax2.plot(df_HDMFR_SMB_user_count['date'], np.diag(df_HDMFR_SMB_user_count.iloc[:, df_HDMFR_SMB_user_count.columns != 'date']).cumsum(), label='SMB Unique Actives CUMSUM')\n",
    "# p6, = ax2.plot(df_HDMFR_MM_user_rate['date'], np.diag(df_HDMFR_MM_user_count.iloc[:, df_HDMFR_MM_user_count.columns != 'date']).cumsum(), label='MM Unique Actives CUMSUM')\n",
    "# p7, = ax2.plot(df_HDMFR_C_user_rate['date'], np.diag(df_HDMFR_C_user_count.iloc[:, df_HDMFR_C_user_count.columns != 'date']).cumsum(), label='C Unique Actives CUMSUM')\n",
    "\n",
    "# fig.autofmt_xdate()\n",
    "# plt.legend(handles=[p2, p3, p4, p5, p6, p7], bbox_to_anchor=(1.15, 1), loc='upper left')\n",
    "plt.legend(handles=[p2, p3, p4], bbox_to_anchor=(1.05, 1), loc='upper left')\n",
    "\n",
    "plt.show()"
   ]
  },
  {
   "cell_type": "code",
   "execution_count": 147,
   "metadata": {},
   "outputs": [],
   "source": [
    "def cohort_mean(df_counts, df_rates):\n",
    "    with warnings.catch_warnings():\n",
    "        warnings.filterwarnings(action='ignore', message='invalid value encountered in true_divide')\n",
    "        cohort_mean = dict()\n",
    "        usage_rate_by_day = {i*-1: np.diag(df_rates.iloc[:, df_rates.columns != 'date'], i).astype('float64') for i in range(-1*(df_rates.shape[0]-1), 1)}\n",
    "        users_by_cohort_day = {i*-1: np.diag(df_counts.iloc[:, df_counts.columns != 'date'], i).astype('float64') for i in range(-1*(df_counts.shape[0]-1), 1)}\n",
    "        for key, val in users_by_cohort_day.items():\n",
    "            cohort_mean[key] = users_by_cohort_day[key].sum() / np.nansum(users_by_cohort_day[key] / usage_rate_by_day[key])\n",
    "    return cohort_mean"
   ]
  },
  {
   "cell_type": "code",
   "execution_count": 150,
   "metadata": {},
   "outputs": [],
   "source": [
    "user_counts = {'corp': [df_HDMFR_C_user_count, df_HDMFR_C_user_rate], 'mid-market': [df_HDMFR_MM_user_count, df_HDMFR_MM_user_rate], 'smb': [df_HDMFR_SMB_user_count, df_HDMFR_SMB_user_rate]}\n",
    "max_dim = max([v[0].shape[0] for v in user_counts.values()])\n",
    "\n",
    "df = pd.DataFrame(index=range(max_dim))\n",
    "for cohort, data in user_counts.items():\n",
    "    df[cohort] = np.nan\n",
    "    computed_mean = cohort_mean(data[0], data[1])\n",
    "    for key, val in computed_mean.items():\n",
    "        df.loc[key, cohort] = val"
   ]
  },
  {
   "cell_type": "code",
   "execution_count": 151,
   "metadata": {},
   "outputs": [
    {
     "data": {
      "text/plain": [
       "<matplotlib.axes._subplots.AxesSubplot at 0x7f7ea5f62970>"
      ]
     },
     "execution_count": 151,
     "metadata": {},
     "output_type": "execute_result"
    },
    {
     "data": {
      "image/png": "[encoded data removed]",
      "text/plain": [
       "<Figure size 432x288 with 1 Axes>"
      ]
     },
     "metadata": {
      "needs_background": "light"
     },
     "output_type": "display_data"
    }
   ],
   "source": [
    "df.plot()"
   ]
  },
  {
   "cell_type": "code",
   "execution_count": 120,
   "metadata": {},
   "outputs": [],
   "source": [
    "# This is legacy, superceded by active_users_by_cohort\n",
    "\"\"\"\n",
    "def active_users_in_period(event_df, col_name, period):\n",
    "    active_user_df = pd.DataFrame({\"date\": pd.date_range(event_df['date'].min(), event_df['date'].max())})\n",
    "    active_user_df[col_name] = 0   # Creates the empty column to be filled\n",
    "    for i in range(len(active_user_df)):\n",
    "        origin_date = active_user_df['date'][i]\n",
    "        offset_date = origin_date - pd.offsets.Day(int(period))\n",
    "        # filter the original dataframe and count unique visitors\n",
    "        count = len(event_df.loc[\n",
    "                                (event_df['date'] <= origin_date) & \n",
    "                                (event_df['date'] > offset_date),\n",
    "                                'user'].unique())\n",
    "        active_user_df.loc[i, col_name] = count\n",
    "    return active_user_df\n",
    "\"\"\"\n",
    "\n",
    "# When running into runtime warnings re: np.nanmean can get rid of errors this way\n",
    "\"\"\"\n",
    "# Expect runtime warnings for taking mean of arrays containing all nan\n",
    "with warnings.catch_warnings():\n",
    "    warnings.filterwarnings(action='ignore', message='invalid value encountered in true_divide')\n",
    "    diagonal_dict = {i*-1: np.nanmean(np.diag(df.iloc[:, df.columns != 'date'], i).astype('float64')) for i in range(-1*(df.shape[0]), 0)}\n",
    "    diagonal_df = pd.DataFrame.from_dict(diagonal_dict).reset_index()\n",
    "\"\"\""
   ]
  }
 ],
 "metadata": {
  "kernelspec": {
   "display_name": "Python 3",
   "language": "python",
   "name": "python3"
  },
  "language_info": {
   "codemirror_mode": {
    "name": "ipython",
    "version": 3
   },
   "file_extension": ".py",
   "mimetype": "text/x-python",
   "name": "python",
   "nbconvert_exporter": "python",
   "pygments_lexer": "ipython3",
   "version": "3.8.3"
  }
 },
 "nbformat": 4,
 "nbformat_minor": 4
}
