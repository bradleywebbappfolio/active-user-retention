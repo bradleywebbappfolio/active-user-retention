{
 "cells": [
  {
   "cell_type": "code",
   "execution_count": 91,
   "metadata": {},
   "outputs": [],
   "source": [
    "import pandas as pd\n",
    "import matplotlib.pyplot as plt\n",
    "import numpy as np\n",
    "from tqdm.notebook import tqdm, trange\n",
    "import warnings"
   ]
  },
  {
   "cell_type": "code",
   "execution_count": 2,
   "metadata": {},
   "outputs": [],
   "source": [
    "file_users = '/Users/bradley.webb/Downloads/turn_board_user_visits.csv'\n",
    "file_pmf_survey_response = '/Users/bradley.webb/Downloads/PollResponseList-csv-rId-af3889a9-4135-420d-bd31-c0bf06a53bef.csv'"
   ]
  },
  {
   "cell_type": "code",
   "execution_count": 95,
   "metadata": {},
   "outputs": [],
   "source": [
    "df = pd.read_csv(file_users)\n",
    "df2 = pd.read_csv(file_pmf_survey_response)"
   ]
  },
  {
   "cell_type": "code",
   "execution_count": 4,
   "metadata": {},
   "outputs": [
    {
     "data": {
      "text/plain": [
       "Index(['Visitor ID', 'Date', 'Response', 'email', 'Account ID', 'name',\n",
       "       'UUID'],\n",
       "      dtype='object')"
      ]
     },
     "execution_count": 4,
     "metadata": {},
     "output_type": "execute_result"
    }
   ],
   "source": [
    "df2.columns"
   ]
  },
  {
   "cell_type": "code",
   "execution_count": 7,
   "metadata": {},
   "outputs": [],
   "source": [
    "df2.drop('UUID', axis=1, inplace=True)"
   ]
  },
  {
   "cell_type": "code",
   "execution_count": 9,
   "metadata": {},
   "outputs": [
    {
     "data": {
      "text/plain": [
       "Index(['RECORDED_DAY', 'VHOST', 'USER_ID', 'UUID', 'PAGE_NAME', 'PAGE_VISITS',\n",
       "       'TOTAL_TIME_SPENT_MINUTES', 'AVG_TIME_SPENT_PER_PAGE_VISIT_MINUTES'],\n",
       "      dtype='object')"
      ]
     },
     "execution_count": 9,
     "metadata": {},
     "output_type": "execute_result"
    }
   ],
   "source": [
    "df.columns"
   ]
  },
  {
   "cell_type": "code",
   "execution_count": 96,
   "metadata": {},
   "outputs": [],
   "source": [
    "df['date'] = pd.to_datetime(df['RECORDED_DAY'])\n",
    "df['user'] = df['UUID']"
   ]
  },
  {
   "cell_type": "code",
   "execution_count": 10,
   "metadata": {},
   "outputs": [
    {
     "data": {
      "text/plain": [
       "(157,)"
      ]
     },
     "execution_count": 10,
     "metadata": {},
     "output_type": "execute_result"
    }
   ],
   "source": [
    "df2['Visitor ID'].unique().shape"
   ]
  },
  {
   "cell_type": "code",
   "execution_count": 13,
   "metadata": {},
   "outputs": [],
   "source": [
    "df3 = df.join(df2.set_index('Visitor ID'), on='UUID', rsuffix='_PMF')"
   ]
  },
  {
   "cell_type": "code",
   "execution_count": 33,
   "metadata": {},
   "outputs": [],
   "source": [
    "x = df3[\n",
    "    (df3['Account ID'].notnull() == True) &\n",
    "    (df3.AVG_TIME_SPENT_PER_PAGE_VISIT_MINUTES > 1)\n",
    "]['UUID']"
   ]
  },
  {
   "cell_type": "code",
   "execution_count": 39,
   "metadata": {},
   "outputs": [
    {
     "data": {
      "text/html": [
       "<div>\n",
       "<style scoped>\n",
       "    .dataframe tbody tr th:only-of-type {\n",
       "        vertical-align: middle;\n",
       "    }\n",
       "\n",
       "    .dataframe tbody tr th {\n",
       "        vertical-align: top;\n",
       "    }\n",
       "\n",
       "    .dataframe thead th {\n",
       "        text-align: right;\n",
       "    }\n",
       "</style>\n",
       "<table border=\"1\" class=\"dataframe\">\n",
       "  <thead>\n",
       "    <tr style=\"text-align: right;\">\n",
       "      <th></th>\n",
       "      <th>Visitor ID</th>\n",
       "      <th>Date</th>\n",
       "      <th>email</th>\n",
       "      <th>Account ID</th>\n",
       "      <th>name</th>\n",
       "    </tr>\n",
       "    <tr>\n",
       "      <th>Response</th>\n",
       "      <th></th>\n",
       "      <th></th>\n",
       "      <th></th>\n",
       "      <th></th>\n",
       "      <th></th>\n",
       "    </tr>\n",
       "  </thead>\n",
       "  <tbody>\n",
       "    <tr>\n",
       "      <th>Not disappointed</th>\n",
       "      <td>19</td>\n",
       "      <td>19</td>\n",
       "      <td>19</td>\n",
       "      <td>19</td>\n",
       "      <td>19</td>\n",
       "    </tr>\n",
       "    <tr>\n",
       "      <th>Somewhat disappointed</th>\n",
       "      <td>14</td>\n",
       "      <td>14</td>\n",
       "      <td>14</td>\n",
       "      <td>14</td>\n",
       "      <td>14</td>\n",
       "    </tr>\n",
       "    <tr>\n",
       "      <th>Very disappointed</th>\n",
       "      <td>40</td>\n",
       "      <td>40</td>\n",
       "      <td>40</td>\n",
       "      <td>40</td>\n",
       "      <td>40</td>\n",
       "    </tr>\n",
       "  </tbody>\n",
       "</table>\n",
       "</div>"
      ],
      "text/plain": [
       "                       Visitor ID  Date  email  Account ID  name\n",
       "Response                                                        \n",
       "Not disappointed               19    19     19          19    19\n",
       "Somewhat disappointed          14    14     14          14    14\n",
       "Very disappointed              40    40     40          40    40"
      ]
     },
     "execution_count": 39,
     "metadata": {},
     "output_type": "execute_result"
    }
   ],
   "source": [
    "df2[df2['Visitor ID'].isin(x)].groupby('Response').count()"
   ]
  },
  {
   "cell_type": "code",
   "execution_count": 58,
   "metadata": {},
   "outputs": [],
   "source": [
    "x = df[\n",
    "    (df.AVG_TIME_SPENT_PER_PAGE_VISIT_MINUTES > 1)   \n",
    "][['date','TOTAL_TIME_SPENT_MINUTES']].groupby('date').sum().reset_index()['date']\n",
    "\n",
    "y = df[\n",
    "    (df.AVG_TIME_SPENT_PER_PAGE_VISIT_MINUTES > 1)   \n",
    "][['date','TOTAL_TIME_SPENT_MINUTES']].groupby('date').sum().reset_index()['TOTAL_TIME_SPENT_MINUTES']"
   ]
  },
  {
   "cell_type": "code",
   "execution_count": 69,
   "metadata": {},
   "outputs": [],
   "source": [
    "y2 = y.rolling(30).mean()"
   ]
  },
  {
   "cell_type": "code",
   "execution_count": 78,
   "metadata": {},
   "outputs": [
    {
     "data": {
      "image/png": "[encoded data removed]",
      "text/plain": [
       "<Figure size 432x288 with 1 Axes>"
      ]
     },
     "metadata": {
      "needs_background": "light"
     },
     "output_type": "display_data"
    }
   ],
   "source": [
    "fig, ax = plt.subplots()\n",
    "ax.plot(x, y)\n",
    "ax.fill_between(x, y2, color='orange', alpha=.2)\n",
    "fig.autofmt_xdate()\n",
    "ax.legend(('Daily', '30-Day Rolling Avg'))\n",
    "plt.show()"
   ]
  },
  {
   "cell_type": "code",
   "execution_count": 80,
   "metadata": {},
   "outputs": [
    {
     "data": {
      "text/html": [
       "<div>\n",
       "<style scoped>\n",
       "    .dataframe tbody tr th:only-of-type {\n",
       "        vertical-align: middle;\n",
       "    }\n",
       "\n",
       "    .dataframe tbody tr th {\n",
       "        vertical-align: top;\n",
       "    }\n",
       "\n",
       "    .dataframe thead th {\n",
       "        text-align: right;\n",
       "    }\n",
       "</style>\n",
       "<table border=\"1\" class=\"dataframe\">\n",
       "  <thead>\n",
       "    <tr style=\"text-align: right;\">\n",
       "      <th></th>\n",
       "      <th>UUID</th>\n",
       "      <th>date</th>\n",
       "    </tr>\n",
       "  </thead>\n",
       "  <tbody>\n",
       "    <tr>\n",
       "      <th>0</th>\n",
       "      <td>2e36641a-ff2a-11e9-827d-b083fed171ad</td>\n",
       "      <td>2020-06-21</td>\n",
       "    </tr>\n",
       "    <tr>\n",
       "      <th>1</th>\n",
       "      <td>2e36641a-ff2a-11e9-827d-b083fed171ad</td>\n",
       "      <td>2020-06-21</td>\n",
       "    </tr>\n",
       "    <tr>\n",
       "      <th>2</th>\n",
       "      <td>1f8dc358-5719-11ea-9c4e-02cfcd2eb442</td>\n",
       "      <td>2020-06-22</td>\n",
       "    </tr>\n",
       "    <tr>\n",
       "      <th>3</th>\n",
       "      <td>1f8dc358-5719-11ea-9c4e-02cfcd2eb442</td>\n",
       "      <td>2020-06-22</td>\n",
       "    </tr>\n",
       "    <tr>\n",
       "      <th>4</th>\n",
       "      <td>2397aef6-faa1-11e9-8430-1866da72a534</td>\n",
       "      <td>2020-06-22</td>\n",
       "    </tr>\n",
       "    <tr>\n",
       "      <th>...</th>\n",
       "      <td>...</td>\n",
       "      <td>...</td>\n",
       "    </tr>\n",
       "    <tr>\n",
       "      <th>6445</th>\n",
       "      <td>f20b3093-28cc-11ea-9625-028f2ae8fd40</td>\n",
       "      <td>2020-11-17</td>\n",
       "    </tr>\n",
       "    <tr>\n",
       "      <th>6446</th>\n",
       "      <td>2d4da312-2516-11eb-8f3b-062010a2d446</td>\n",
       "      <td>2020-11-17</td>\n",
       "    </tr>\n",
       "    <tr>\n",
       "      <th>6447</th>\n",
       "      <td>10e7a68e-1266-11eb-8abf-02fa3c15faa6</td>\n",
       "      <td>2020-11-17</td>\n",
       "    </tr>\n",
       "    <tr>\n",
       "      <th>6448</th>\n",
       "      <td>1a4c365e-accd-11ea-8f8b-0aec14e13d34</td>\n",
       "      <td>2020-11-17</td>\n",
       "    </tr>\n",
       "    <tr>\n",
       "      <th>6449</th>\n",
       "      <td>7ed5c528-0419-11eb-bf9e-0aa1ecd90bce</td>\n",
       "      <td>2020-11-17</td>\n",
       "    </tr>\n",
       "  </tbody>\n",
       "</table>\n",
       "<p>6450 rows × 2 columns</p>\n",
       "</div>"
      ],
      "text/plain": [
       "                                      UUID       date\n",
       "0     2e36641a-ff2a-11e9-827d-b083fed171ad 2020-06-21\n",
       "1     2e36641a-ff2a-11e9-827d-b083fed171ad 2020-06-21\n",
       "2     1f8dc358-5719-11ea-9c4e-02cfcd2eb442 2020-06-22\n",
       "3     1f8dc358-5719-11ea-9c4e-02cfcd2eb442 2020-06-22\n",
       "4     2397aef6-faa1-11e9-8430-1866da72a534 2020-06-22\n",
       "...                                    ...        ...\n",
       "6445  f20b3093-28cc-11ea-9625-028f2ae8fd40 2020-11-17\n",
       "6446  2d4da312-2516-11eb-8f3b-062010a2d446 2020-11-17\n",
       "6447  10e7a68e-1266-11eb-8abf-02fa3c15faa6 2020-11-17\n",
       "6448  1a4c365e-accd-11ea-8f8b-0aec14e13d34 2020-11-17\n",
       "6449  7ed5c528-0419-11eb-bf9e-0aa1ecd90bce 2020-11-17\n",
       "\n",
       "[6450 rows x 2 columns]"
      ]
     },
     "execution_count": 80,
     "metadata": {},
     "output_type": "execute_result"
    }
   ],
   "source": [
    "df[['UUID', 'date']]"
   ]
  },
  {
   "cell_type": "code",
   "execution_count": 81,
   "metadata": {},
   "outputs": [],
   "source": [
    "def active_users_by_cohort(event_df, period_length):\n",
    "    active_user_df = pd.DataFrame({\"date\": pd.date_range(event_df['date'].min(), event_df['date'].max())})\n",
    "    active_user_count_df = pd.DataFrame({\"date\": pd.date_range(event_df['date'].min(), event_df['date'].max())})\n",
    "    existing_users = set()\n",
    "    for cohort_date in trange(len(active_user_df)):\n",
    "        active_user_df[cohort_date] = np.nan\n",
    "        active_user_count_df[cohort_date] = 0\n",
    "        origin_date = active_user_df['date'][cohort_date]\n",
    "        offset_date = origin_date - pd.offsets.Day(int(period_length))\n",
    "        base_cohort = set(event_df[\n",
    "                             (event_df['date'] <= origin_date) & \n",
    "                             (event_df['date'] > offset_date)  \n",
    "                             ]['user'].unique()) - existing_users\n",
    "        existing_users.update(base_cohort)\n",
    "        for i in range(cohort_date, len(active_user_df)):\n",
    "            origin_date = active_user_df['date'][i]\n",
    "            offset_date = origin_date - pd.offsets.Day(int(period_length))\n",
    "            current_cohort = set(event_df[\n",
    "                             (event_df['date'] <= origin_date) & \n",
    "                             (event_df['date'] > offset_date)  \n",
    "                             ]['user'].unique())\n",
    "            if len(base_cohort) != 0:\n",
    "                active_user_df.loc[i, cohort_date] = len(base_cohort & current_cohort)/len(base_cohort)\n",
    "                active_user_count_df.loc[i, cohort_date] = len(base_cohort & current_cohort)\n",
    "    return active_user_df, active_user_count_df"
   ]
  },
  {
   "cell_type": "code",
   "execution_count": 137,
   "metadata": {},
   "outputs": [
    {
     "data": {
      "application/vnd.jupyter.widget-view+json": {
       "model_id": "98278e83e0d74d589c4cfe0dbaa4ddbb",
       "version_major": 2,
       "version_minor": 0
      },
      "text/plain": [
       "HBox(children=(FloatProgress(value=0.0, max=150.0), HTML(value='')))"
      ]
     },
     "metadata": {},
     "output_type": "display_data"
    },
    {
     "name": "stdout",
     "output_type": "stream",
     "text": [
      "\n"
     ]
    },
    {
     "data": {
      "application/vnd.jupyter.widget-view+json": {
       "model_id": "a660a32074154cc7ae0ae84503368e05",
       "version_major": 2,
       "version_minor": 0
      },
      "text/plain": [
       "HBox(children=(FloatProgress(value=0.0, max=150.0), HTML(value='')))"
      ]
     },
     "metadata": {},
     "output_type": "display_data"
    },
    {
     "name": "stdout",
     "output_type": "stream",
     "text": [
      "\n"
     ]
    }
   ],
   "source": [
    "df_rate, df_count = active_users_by_cohort(df, 31)\n",
    "df_d_rate, df_d_count = active_users_by_cohort(df, 1)"
   ]
  },
  {
   "cell_type": "code",
   "execution_count": 204,
   "metadata": {},
   "outputs": [
    {
     "data": {
      "text/plain": [
       "array([ 1,  5,  5,  4,  2,  4,  0,  0,  3,  5,  2,  2,  1,  1,  1,  3,  1,\n",
       "        3,  3,  2,  0,  0,  5,  4,  4,  8,  9,  0,  0,  4,  1,  2,  3,  6,\n",
       "        1,  1,  0,  1,  2,  1,  5,  0,  0,  4, 69, 76, 58, 61,  5,  8, 57,\n",
       "       37, 53, 41, 32,  9,  3, 30, 42, 46, 37, 45,  5,  3, 35, 45, 34, 31,\n",
       "       31,  4,  0, 19, 28, 34, 27, 18,  2,  2,  4, 38, 23, 29, 26,  4,  1,\n",
       "       30, 26, 28, 31, 18,  2,  3, 36, 26, 35, 36, 23,  3,  4, 15, 24, 25,\n",
       "       27, 14,  4,  1, 27, 34, 36, 19, 20,  2,  2, 28, 15,  0,  0,  0,  0,\n",
       "        1,  0,  0,  0, 29, 21,  2,  3,  0,  0,  0,  0, 20,  2,  5,  0,  0,\n",
       "        0,  0,  0,  3,  5,  0,  0, 21,  0, 36,  0,  1, 25, 32])"
      ]
     },
     "execution_count": 204,
     "metadata": {},
     "output_type": "execute_result"
    }
   ],
   "source": [
    "# df_d_count.loc[:, df_d_count.columns != 'date']/df_count.loc[:, df_count.columns != 'date']\n",
    "np.diag(df_count.iloc[:,1:])"
   ]
  },
  {
   "cell_type": "code",
   "execution_count": 89,
   "metadata": {},
   "outputs": [],
   "source": [
    "def cohort_mean(df_counts, df_rates):\n",
    "    with warnings.catch_warnings():\n",
    "        warnings.filterwarnings(action='ignore', message='invalid value encountered in true_divide')\n",
    "        cohort_mean = dict()\n",
    "        usage_rate_by_day = {i*-1: np.diag(df_rates.iloc[:, df_rates.columns != 'date'], i).astype('float64') for i in range(-1*(df_rates.shape[0]-1), 1)}\n",
    "        users_by_cohort_day = {i*-1: np.diag(df_counts.iloc[:, df_counts.columns != 'date'], i).astype('float64') for i in range(-1*(df_counts.shape[0]-1), 1)}\n",
    "        for key, val in users_by_cohort_day.items():\n",
    "            cohort_mean[key] = users_by_cohort_day[key].sum() / np.nansum(users_by_cohort_day[key] / usage_rate_by_day[key])\n",
    "    return cohort_mean"
   ]
  },
  {
   "cell_type": "code",
   "execution_count": 157,
   "metadata": {},
   "outputs": [
    {
     "name": "stderr",
     "output_type": "stream",
     "text": [
      "<ipython-input-89-ee5597c05946>:8: RuntimeWarning: invalid value encountered in double_scalars\n",
      "  cohort_mean[key] = users_by_cohort_day[key].sum() / np.nansum(users_by_cohort_day[key] / usage_rate_by_day[key])\n"
     ]
    }
   ],
   "source": [
    "user_counts = {'MAU': [df_count, df_rate], 'DAU': [df_d_count, df_d_rate]}\n",
    "max_dim = max([v[0].shape[0] for v in user_counts.values()])\n",
    "\n",
    "df_cohort = pd.DataFrame(index=range(max_dim))\n",
    "for cohort, data in user_counts.items():\n",
    "    df_cohort[cohort] = np.nan\n",
    "    computed_mean = cohort_mean(data[0], data[1])\n",
    "    for key, val in computed_mean.items():\n",
    "        df_cohort.loc[key, cohort] = val"
   ]
  },
  {
   "cell_type": "code",
   "execution_count": 252,
   "metadata": {},
   "outputs": [
    {
     "data": {
      "image/png": "[encoded data removed]",
      "text/plain": [
       "<Figure size 432x288 with 3 Axes>"
      ]
     },
     "metadata": {
      "needs_background": "light"
     },
     "output_type": "display_data"
    }
   ],
   "source": [
    "fig, (ax1, ax2) = plt.subplots(2,1)\n",
    "\n",
    "data_1 = ax1.plot(df_cohort.index, df_cohort['MAU'], label='MAU Retention', color='#005596')\n",
    "data_2 = ax1.plot(df_cohort.index, df_cohort['DAU'], label='DAU Retention', color='#1E90FF')\n",
    "\n",
    "data_3 = ax2.plot(df_count.date , np.diag(df_count.iloc[:, 1:]).cumsum(), label='Agg Unique Users', color='#1C2841')\n",
    "ax3 = ax2.twinx()\n",
    "data_4 = ax3.plot(df['date'].unique(), df.groupby(['date']).agg(['count'])['user'], label='Daily Users', color='#00693E')\n",
    "\n",
    "plt.legend(handles=[data_1[0], data_2[0], data_3[0], data_4[0]], bbox_to_anchor=(1.1, 1.5), loc='upper left')\n",
    "\n",
    "plt.show()"
   ]
  },
  {
   "cell_type": "code",
   "execution_count": null,
   "metadata": {},
   "outputs": [],
   "source": []
  }
 ],
 "metadata": {
  "kernelspec": {
   "display_name": "Python 3",
   "language": "python",
   "name": "python3"
  },
  "language_info": {
   "codemirror_mode": {
    "name": "ipython",
    "version": 3
   },
   "file_extension": ".py",
   "mimetype": "text/x-python",
   "name": "python",
   "nbconvert_exporter": "python",
   "pygments_lexer": "ipython3",
   "version": "3.8.3"
  }
 },
 "nbformat": 4,
 "nbformat_minor": 4
}
